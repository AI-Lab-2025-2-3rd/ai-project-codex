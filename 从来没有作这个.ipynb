{
  "nbformat": 4,
  "nbformat_minor": 0,
  "metadata": {
    "colab": {
      "provenance": [],
      "authorship_tag": "ABX9TyMdhfx6OSsy/GWkmvY+E4Oc",
      "include_colab_link": true
    },
    "kernelspec": {
      "name": "python3",
      "display_name": "Python 3"
    },
    "language_info": {
      "name": "python"
    }
  },
  "cells": [
    {
      "cell_type": "markdown",
      "metadata": {
        "id": "view-in-github",
        "colab_type": "text"
      },
      "source": [
        "<a href=\"https://colab.research.google.com/github/AI-Lab-2025-2-3rd/ai-project-codex/blob/emusigi/%E4%BB%8E%E6%9D%A5%E6%B2%A1%E6%9C%89%E4%BD%9C%E8%BF%99%E4%B8%AA.ipynb\" target=\"_parent\"><img src=\"https://colab.research.google.com/assets/colab-badge.svg\" alt=\"Open In Colab\"/></a>"
      ]
    },
    {
      "cell_type": "markdown",
      "source": [
        "**好熱！**\n",
        "\n",
        "這的天氣\n",
        "有問題一一一一一一一"
      ],
      "metadata": {
        "id": "0aS03SchYJIC"
      }
    },
    {
      "cell_type": "code",
      "source": [
        "import pandas as pd\n",
        "import numpy as np\n",
        "import matplotlib.pyplot as plt"
      ],
      "metadata": {
        "id": "i9XKURaEn5XZ"
      },
      "execution_count": null,
      "outputs": []
    },
    {
      "cell_type": "code",
      "source": [
        "!git clone https://github.com/AI-Lab-2025-2-3rd/ai-project-codex.git"
      ],
      "metadata": {
        "id": "cChW-ng_VSlk",
        "outputId": "c7614858-4cf3-4028-a4b8-83ac305b35ee",
        "colab": {
          "base_uri": "https://localhost:8080/"
        }
      },
      "execution_count": 1,
      "outputs": [
        {
          "output_type": "stream",
          "name": "stdout",
          "text": [
            "Cloning into 'ai-project-codex'...\n",
            "remote: Enumerating objects: 44, done.\u001b[K\n",
            "remote: Counting objects: 100% (44/44), done.\u001b[K\n",
            "remote: Compressing objects: 100% (39/39), done.\u001b[K\n",
            "remote: Total 44 (delta 12), reused 8 (delta 2), pack-reused 0 (from 0)\u001b[K\n",
            "Receiving objects: 100% (44/44), 4.36 MiB | 6.40 MiB/s, done.\n",
            "Resolving deltas: 100% (12/12), done.\n"
          ]
        }
      ]
    },
    {
      "cell_type": "markdown",
      "source": [
        "# **train.csv**\n",
        "32000개의 데이터, 3개의 열(id, 텍스트, 감정값)"
      ],
      "metadata": {
        "id": "d30vH1xabTzU"
      }
    },
    {
      "cell_type": "code",
      "source": [
        "file_path = './ai-project-codex/open/train.csv'\n",
        "\n",
        "眼泪 = pd.read_csv(file_path)\n",
        "print(眼泪)"
      ],
      "metadata": {
        "id": "5wCX5nzGZRbu",
        "outputId": "dad9cbc6-43b2-45f4-8aba-88413aa0eb25",
        "colab": {
          "base_uri": "https://localhost:8080/"
        }
      },
      "execution_count": 6,
      "outputs": [
        {
          "output_type": "stream",
          "name": "stdout",
          "text": [
            "                id                                               text  \\\n",
            "0      TRAIN_00000  @SenWarren The problem with your massively fla...   \n",
            "1      TRAIN_00001  #Tweetlord is a twitter role playing game! Che...   \n",
            "2      TRAIN_00002  I just slammed my elbow into a fridge, I did n...   \n",
            "3      TRAIN_00003                          _beckett Thanks so much !   \n",
            "4      TRAIN_00004                     My gauge fell out on superman    \n",
            "...            ...                                                ...   \n",
            "31995  TRAIN_31995  Its a grey day over Manchester  i would like t...   \n",
            "31996  TRAIN_31996  Got laidoff tonight. Very unhappy.  time for bed.   \n",
            "31997  TRAIN_31997  @MonicaLewinsky Wonderful Monica. Chef’s kiss ...   \n",
            "31998  TRAIN_31998  #AR #business card\\n#VR #MixedReality #IoT #in...   \n",
            "31999  TRAIN_31999  @Luscious_Dream (When you move your wrist, my ...   \n",
            "\n",
            "       sentiment  \n",
            "0              2  \n",
            "1              1  \n",
            "2              2  \n",
            "3              1  \n",
            "4              2  \n",
            "...          ...  \n",
            "31995          2  \n",
            "31996          2  \n",
            "31997          1  \n",
            "31998          1  \n",
            "31999          1  \n",
            "\n",
            "[32000 rows x 3 columns]\n"
          ]
        }
      ]
    },
    {
      "cell_type": "markdown",
      "source": [
        "# **test.csv**\n",
        "\n",
        "48000개의 **데이터**, 2개의 열(id, 텍스트)"
      ],
      "metadata": {
        "id": "hJyrRWU0aWIR"
      }
    },
    {
      "cell_type": "code",
      "source": [
        "file_path = './ai-project-codex/open/test.csv'\n",
        "涙 = pd.read_csv(file_path)\n",
        "print(涙)"
      ],
      "metadata": {
        "id": "c4Q7-DhRajKZ",
        "outputId": "94bd77ad-eab7-4335-935d-0ddb358c0d7e",
        "colab": {
          "base_uri": "https://localhost:8080/"
        }
      },
      "execution_count": 7,
      "outputs": [
        {
          "output_type": "stream",
          "name": "stdout",
          "text": [
            "               id                                               text\n",
            "0      TEST_00000  @naima @dialogician Most of this footage is fr...\n",
            "1      TEST_00001  @Haggis_UK @kevinhollinrake is willing to brea...\n",
            "2      TEST_00002  ‘No Magic Bullet’ for Preserving Abortion Acce...\n",
            "3      TEST_00003               Can I also have a swirly flat white?\n",
            "4      TEST_00004  Question: If the trains we have get disabled i...\n",
            "...           ...                                                ...\n",
            "47995  TEST_47995   the music in the trailer was terrible imo, ch...\n",
            "47996  TEST_47996                @HilaryxLynn Ditto... Me too also! \n",
            "47997  TEST_47997  can't wait for school tomorrow ahhh but I have...\n",
            "47998  TEST_47998  is wanting someone to spend her summer evening...\n",
            "47999  TEST_47999  Can I get a 'what?'  'what?'...the baby sent s...\n",
            "\n",
            "[48000 rows x 2 columns]\n"
          ]
        }
      ]
    },
    {
      "cell_type": "markdown",
      "source": [
        "# **sample_submission.csv**\n",
        "48000개의 데이터, 2개의 열(id, 감정값)\n"
      ],
      "metadata": {
        "id": "7E8y5Ge8nERT"
      }
    },
    {
      "cell_type": "code",
      "source": [
        "file_path = './ai-project-codex/open/sample_submission.csv'\n",
        "눈 = pd.read_csv(file_path)\n",
        "print(눈)"
      ],
      "metadata": {
        "id": "QiB4yyBLnOYv",
        "outputId": "d7c88b27-2bc6-4997-b0e8-44407922db70",
        "colab": {
          "base_uri": "https://localhost:8080/"
        }
      },
      "execution_count": 14,
      "outputs": [
        {
          "output_type": "stream",
          "name": "stdout",
          "text": [
            "               id  sentiment\n",
            "0      TEST_00000         -1\n",
            "1      TEST_00001         -1\n",
            "2      TEST_00002         -1\n",
            "3      TEST_00003         -1\n",
            "4      TEST_00004         -1\n",
            "...           ...        ...\n",
            "47995  TEST_47995         -1\n",
            "47996  TEST_47996         -1\n",
            "47997  TEST_47997         -1\n",
            "47998  TEST_47998         -1\n",
            "47999  TEST_47999         -1\n",
            "\n",
            "[48000 rows x 2 columns]\n"
          ]
        }
      ]
    },
    {
      "cell_type": "markdown",
      "source": [
        "# **결측치 확인**"
      ],
      "metadata": {
        "id": "F6gj_rdkbCgH"
      }
    },
    {
      "cell_type": "code",
      "source": [
        "眼泪.isnull().sum() #"
      ],
      "metadata": {
        "id": "mPWxdUJubK10",
        "outputId": "49980f58-d6a5-41b9-d3b7-1f5142ee0a7e",
        "colab": {
          "base_uri": "https://localhost:8080/",
          "height": 178
        }
      },
      "execution_count": 12,
      "outputs": [
        {
          "output_type": "execute_result",
          "data": {
            "text/plain": [
              "id           0\n",
              "text         0\n",
              "sentiment    0\n",
              "dtype: int64"
            ],
            "text/html": [
              "<div>\n",
              "<style scoped>\n",
              "    .dataframe tbody tr th:only-of-type {\n",
              "        vertical-align: middle;\n",
              "    }\n",
              "\n",
              "    .dataframe tbody tr th {\n",
              "        vertical-align: top;\n",
              "    }\n",
              "\n",
              "    .dataframe thead th {\n",
              "        text-align: right;\n",
              "    }\n",
              "</style>\n",
              "<table border=\"1\" class=\"dataframe\">\n",
              "  <thead>\n",
              "    <tr style=\"text-align: right;\">\n",
              "      <th></th>\n",
              "      <th>0</th>\n",
              "    </tr>\n",
              "  </thead>\n",
              "  <tbody>\n",
              "    <tr>\n",
              "      <th>id</th>\n",
              "      <td>0</td>\n",
              "    </tr>\n",
              "    <tr>\n",
              "      <th>text</th>\n",
              "      <td>0</td>\n",
              "    </tr>\n",
              "    <tr>\n",
              "      <th>sentiment</th>\n",
              "      <td>0</td>\n",
              "    </tr>\n",
              "  </tbody>\n",
              "</table>\n",
              "</div><br><label><b>dtype:</b> int64</label>"
            ]
          },
          "metadata": {},
          "execution_count": 12
        }
      ]
    },
    {
      "cell_type": "code",
      "source": [
        "涙.isnull().sum()"
      ],
      "metadata": {
        "id": "oLG_Ad-jmcDW",
        "outputId": "fc72402a-fcce-4608-8d01-17c0761876ef",
        "colab": {
          "base_uri": "https://localhost:8080/",
          "height": 146
        }
      },
      "execution_count": 11,
      "outputs": [
        {
          "output_type": "execute_result",
          "data": {
            "text/plain": [
              "id      0\n",
              "text    0\n",
              "dtype: int64"
            ],
            "text/html": [
              "<div>\n",
              "<style scoped>\n",
              "    .dataframe tbody tr th:only-of-type {\n",
              "        vertical-align: middle;\n",
              "    }\n",
              "\n",
              "    .dataframe tbody tr th {\n",
              "        vertical-align: top;\n",
              "    }\n",
              "\n",
              "    .dataframe thead th {\n",
              "        text-align: right;\n",
              "    }\n",
              "</style>\n",
              "<table border=\"1\" class=\"dataframe\">\n",
              "  <thead>\n",
              "    <tr style=\"text-align: right;\">\n",
              "      <th></th>\n",
              "      <th>0</th>\n",
              "    </tr>\n",
              "  </thead>\n",
              "  <tbody>\n",
              "    <tr>\n",
              "      <th>id</th>\n",
              "      <td>0</td>\n",
              "    </tr>\n",
              "    <tr>\n",
              "      <th>text</th>\n",
              "      <td>0</td>\n",
              "    </tr>\n",
              "  </tbody>\n",
              "</table>\n",
              "</div><br><label><b>dtype:</b> int64</label>"
            ]
          },
          "metadata": {},
          "execution_count": 11
        }
      ]
    },
    {
      "cell_type": "code",
      "source": [
        "눈.isnull().sum()"
      ],
      "metadata": {
        "id": "6Ka0KUPBnpL8",
        "outputId": "1c9ddf99-cc46-413d-b017-6570e8ab7232",
        "colab": {
          "base_uri": "https://localhost:8080/",
          "height": 146
        }
      },
      "execution_count": 15,
      "outputs": [
        {
          "output_type": "execute_result",
          "data": {
            "text/plain": [
              "id           0\n",
              "sentiment    0\n",
              "dtype: int64"
            ],
            "text/html": [
              "<div>\n",
              "<style scoped>\n",
              "    .dataframe tbody tr th:only-of-type {\n",
              "        vertical-align: middle;\n",
              "    }\n",
              "\n",
              "    .dataframe tbody tr th {\n",
              "        vertical-align: top;\n",
              "    }\n",
              "\n",
              "    .dataframe thead th {\n",
              "        text-align: right;\n",
              "    }\n",
              "</style>\n",
              "<table border=\"1\" class=\"dataframe\">\n",
              "  <thead>\n",
              "    <tr style=\"text-align: right;\">\n",
              "      <th></th>\n",
              "      <th>0</th>\n",
              "    </tr>\n",
              "  </thead>\n",
              "  <tbody>\n",
              "    <tr>\n",
              "      <th>id</th>\n",
              "      <td>0</td>\n",
              "    </tr>\n",
              "    <tr>\n",
              "      <th>sentiment</th>\n",
              "      <td>0</td>\n",
              "    </tr>\n",
              "  </tbody>\n",
              "</table>\n",
              "</div><br><label><b>dtype:</b> int64</label>"
            ]
          },
          "metadata": {},
          "execution_count": 15
        }
      ]
    }
  ]
}